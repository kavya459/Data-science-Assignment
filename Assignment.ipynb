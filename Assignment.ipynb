Question 1:
a=[]
list1=[23,45,67,89,26,44,90,88,99,12]
for I in list1:
      if  i%2==0:
            a.append(i)
print(list1)

Question 2:
 LIST=[]
String="the world"
for I in String:
         List.append(I)
print(List)
    
Question 3
Dict1={}
N=int(input())
for I in range(N):
         Temp={}
         Temp={I+1:(I+1)*(I+1)}
         Dict1.append(Temp)
print(Dict1) 
Question 4
N=int(input())
Direction=["UP","DOWN","RIGHT","LEFT"]
for I in range(N):
        Dis=int(input())
        print(Direction[I],Dis)
print(Dis)




